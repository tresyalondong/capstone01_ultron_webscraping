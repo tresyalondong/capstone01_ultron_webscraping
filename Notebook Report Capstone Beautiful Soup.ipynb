{
 "cells": [
  {
   "cell_type": "markdown",
   "metadata": {},
   "source": [
    "**Documentation for Week 4: Project Capstone**\n",
    "\n",
    "This notebook was made to document the step-by-step of web scraping using BeautifulSoup as the first Capstone Project for the *Algoritma Academy Full Stack: Data Analytics Specialization* program\n",
    "\n",
    "Version: 01 - January 2023\n",
    "<br>By : Theresia Londong"
   ]
  },
  {
   "cell_type": "markdown",
   "metadata": {},
   "source": [
    "# Capstone Webscrapping using BeautifulSoup\n",
    "\n",
    "This notebook contains guidances & tasks on the data processing for the application\n",
    "\n",
    "## background\n",
    "\n",
    "In this project, we would like to produce a list of movies released in 2021 (with detailed information such as IMDB rating, Metascore, and votes), using legally available data from the IMDb website [here](https://www.imdb.com/search/title/?release_date=2021-01-01,2021-12-31), by utilizing a Python library named `BeautifulSoup` to scrape the information from our website. We will only limit our scraping to the first 6 pages, or correspond with 300 movies, from the IMDb 2021 movie list. We will then perform data analysis to find the 7 most popular movies.   \n",
    "\n",
    "## Requesting the Data and Creating a BeautifulSoup\n",
    "\n",
    "Let's begin with requesting the web from the site with `get` method."
   ]
  },
  {
   "cell_type": "code",
   "execution_count": 608,
   "metadata": {},
   "outputs": [],
   "source": [
    "#importing necessary modules, packages,and libraries\n",
    "import requests\n",
    "from bs4 import BeautifulSoup \n",
    "import re # import regex/regular expression to process string match etc\n",
    "import pandas as pd\n",
    "import matplotlib.pyplot as plt"
   ]
  },
  {
   "cell_type": "code",
   "execution_count": 609,
   "metadata": {
    "ExecuteTime": {
     "end_time": "2020-01-13T05:12:23.275508Z",
     "start_time": "2020-01-13T05:12:20.009898Z"
    }
   },
   "outputs": [
    {
     "data": {
      "text/plain": [
       "(300, 300, 300, 300)"
      ]
     },
     "execution_count": 609,
     "metadata": {},
     "output_type": "execute_result"
    }
   ],
   "source": [
    "# Complete Data Scraping Process\n",
    "\n",
    "title=[] # initiate tuple for movie title\n",
    "ratings=[] # initiate tuple for viewer ratings\n",
    "meta=[] # initiate tuple for metascore\n",
    "votes_imdb=[] # initiate tuple for viewer votes\n",
    "rank=7 #any number to perform subsetting of the Top <Rank> Movies\n",
    "\n",
    "#request data from website for the first 300 data (or the first 6 pages)\n",
    "for n in range(1, 252, 50):\n",
    "    url_get=requests.get('https://www.imdb.com/search/title/?release_date=2021-01-01,2021-12-31&start=' + str(n) + '&ref_=adv_nxt')\n",
    "    \n",
    "    # Create BeautifulSoup object\n",
    "    soup = BeautifulSoup(url_get.content,\"html.parser\")\n",
    "    \n",
    "    # Finding Key to scrap the data needed\n",
    "    table = soup.find('div',attrs={'class':'lister-list'})\n",
    "    \n",
    "    # To find the row length for each page iteration \n",
    "    movie_list=table.find_all('div', attrs={'class':'lister-item mode-advanced'})\n",
    "    row_length= len(movie_list)\n",
    "    \n",
    "    # Data scraping loop, based on row_length information, to get data from each page \n",
    "    for i in range(0, row_length):\n",
    "\n",
    "        # Scraping the movie's name\n",
    "        name = table.find_all('h3', attrs={'a':''})[i].get_text().strip()\n",
    "        name_clean=re.findall('\\n(.*)\\n', name)  #using regex to cleance movie title from unwanted characters, resulted in series of lists\n",
    "        title.append(name_clean[0]) # take only first element of each lists in the name_clean object \n",
    "\n",
    "        # Scraping the imdb ratings\n",
    "        rate_imdb = table.find_all('strong')[i].get_text().strip()\n",
    "        ratings.append(rate_imdb)  \n",
    "\n",
    "        # Scraping metascores value, if any, otherwise return with None \n",
    "        if table.find_all('div', attrs={'class':'ratings-bar'})[i].find('span', class_ = 'metascore') is not None:\n",
    "            m_score=table.find_all('div', attrs={'class':'ratings-bar'})[i].find('span', class_ = 'metascore').get_text().strip()\n",
    "            meta.append(m_score)\n",
    "        else:\n",
    "            meta.append(0) #assign value 0 to movies with no metascore (for statistical purpose) \n",
    "\n",
    "        # Scraping voting result\n",
    "        votes=table.find_all('p', attrs={'class':'sort-num_votes-visible'})[i].find('span', attrs = {'name':'nv'}).get_text().strip()\n",
    "        votes_imdb.append(votes)\n",
    "\n",
    "len(title), len(ratings), len(meta), len(votes_imdb) "
   ]
  },
  {
   "cell_type": "markdown",
   "metadata": {},
   "source": [
    "To visualize what exactly you get from the `request.get`, we can use .content so ee what we exactly get, in here i slice it so it won't make our screen full of the html we get from the page. You can delete the slicing if you want to see what we fully get."
   ]
  },
  {
   "cell_type": "markdown",
   "metadata": {
    "ExecuteTime": {
     "end_time": "2020-01-13T05:12:23.290648Z",
     "start_time": "2020-01-13T05:12:23.277650Z"
    }
   },
   "source": [
    " `url_get.content[1:500]`"
   ]
  },
  {
   "cell_type": "markdown",
   "metadata": {},
   "source": [
    "As we can see we get a very unstructured and complex html, which actually contains the codes needed to show the webpages on your web browser. But we as human still confused what and where we can use that piece of code, so here where we use the beautifulsoup. Beautiful soup class will result a beautifulsoup object. Beautiful Soup transforms a complex HTML document into a complex tree of Python objects. \n",
    "\n",
    "Let's make Beautiful soup object and feel free to explore the object here."
   ]
  },
  {
   "cell_type": "markdown",
   "metadata": {
    "ExecuteTime": {
     "end_time": "2020-01-13T05:12:23.808122Z",
     "start_time": "2020-01-13T05:12:23.292610Z"
    }
   },
   "source": [
    "`soup = BeautifulSoup(url_get.content,\"html.parser\")`"
   ]
  },
  {
   "cell_type": "code",
   "execution_count": 610,
   "metadata": {},
   "outputs": [
    {
     "name": "stdout",
     "output_type": "stream",
     "text": [
      "<!DOCTYPE html>\n",
      "<html xmlns:fb=\"http://www.facebook.com/2008/fbml\" xmlns:og=\"http://ogp.me/ns#\">\n",
      " <head>\n",
      "  <meta charset=\"utf-8\"/>\n",
      "  <script type=\"text/javascript\">\n",
      "   var IMDbTimer={starttime: new Date().getTime(),pt:'java'};\n",
      "  </script>\n",
      "  <script>\n",
      "   if (typeof uet == 'function') {\n",
      "      uet(\"bb\", \"LoadTitle\", {wb: 1});\n",
      "    }\n",
      "  </script>\n",
      "  <script>\n",
      "   (function(t){ (t.events = t.events || {})[\"csm_head_pre_title\"] = new Date().getTime(); })(IMDbTimer);\n",
      "  </script>\n",
      "  <title>\n",
      "   Released between\n"
     ]
    }
   ],
   "source": [
    "print(soup.prettify()[:500])"
   ]
  },
  {
   "cell_type": "markdown",
   "metadata": {},
   "source": [
    "## Finding the right key to scrap the data & Extracting the right information"
   ]
  },
  {
   "cell_type": "markdown",
   "metadata": {},
   "source": [
    "Find the key and put the key into the `.find()` Put all the exploring the right key at this cell. (please change this markdown with your explanation)"
   ]
  },
  {
   "cell_type": "markdown",
   "metadata": {},
   "source": [
    "`table = soup.find('div',attrs={'class':'lister-list'})`"
   ]
  },
  {
   "cell_type": "code",
   "execution_count": 611,
   "metadata": {},
   "outputs": [
    {
     "name": "stdout",
     "output_type": "stream",
     "text": [
      "div class=\"lister-list\">\n",
      " <div class=\"lister-item mode-advanced\">\n",
      "  <div class=\"lister-top-right\">\n",
      "   <div class=\"ribbonize\" data-caller=\"filmosearch\" data-tconst=\"tt14821150\">\n",
      "   </div>\n",
      "  </div>\n",
      "  <div class=\"lister-item-image float-left\">\n",
      "   <a href=\"/title/tt14821150/\">\n",
      "    <img alt=\"Vortex\" class=\"loadlate\" data-tconst=\"tt14821150\" height=\"98\" loadlate=\"https://m.media-amazon.com/images/M/MV5BNjMxYTFmNTctNDgyYi00NzQwLTk1NTItMmVkYjk5Yjc1NmI2XkEyXkFqcGdeQXVyMTAyMjQ3NzQ1._V1_UY98_CR0,0,67,98_A\n"
     ]
    }
   ],
   "source": [
    " print(table.prettify()[1:500])"
   ]
  },
  {
   "cell_type": "markdown",
   "metadata": {},
   "source": [
    "Finding row length."
   ]
  },
  {
   "cell_type": "markdown",
   "metadata": {},
   "source": [
    "`movie_list=table.find_all('div', attrs={'class':'lister-item mode-advanced'})`\n",
    "\n",
    "`row_length= len(movie_list)`"
   ]
  },
  {
   "cell_type": "markdown",
   "metadata": {},
   "source": [
    "Explanation of the scrapping process"
   ]
  },
  {
   "cell_type": "markdown",
   "metadata": {
    "ExecuteTime": {
     "end_time": "2020-01-13T05:12:24.008256Z",
     "start_time": "2020-01-13T05:12:23.980358Z"
    }
   },
   "source": [
    "Scraping Movie Title and rating using loop based on row_length with **for** operation\n",
    "\n",
    "`for i in range(0, row_length):`"
   ]
  },
  {
   "cell_type": "markdown",
   "metadata": {},
   "source": [
    "Scraping the movie's name with the following command : \n",
    "\n",
    "- `name = table.find_all('h3', attrs={'a':''})[i].get_text().strip()` to get only the text part and strip the unwanted spaces\n",
    "\n",
    "- `name_clean=re.findall('\\n(.*)\\n', name)`  using regex library to cleance movie title from unwanted characters, which resulted in single-element-list\n",
    "\n",
    "- `title.append(name_clean[0])` subset the first (and only) element `name_clean` object and append to the `title` array"
   ]
  },
  {
   "cell_type": "markdown",
   "metadata": {},
   "source": [
    "Scraping the imdb ratings :\n",
    "\n",
    "- `rate_imdb = table.find_all('strong')[i].get_text().strip()`\n",
    "\n",
    "- `ratings.append(rate_imdb)`  append data from `rate_imdb` to the `ratings` array"
   ]
  },
  {
   "cell_type": "markdown",
   "metadata": {},
   "source": [
    "Scraping metascores value, if any, otherwise return with None :\n",
    "\n",
    "- First we declare the **if** statement and the condition to be satisfied.\n",
    "`if table.find_all('div', attrs={'class':'ratings-bar'})[i].find('span', class_ = 'metascore') is not None:`\n",
    "\n",
    "- `m_score=table.find_all('div', attrs={'class':'ratings-bar'})[i].find('span', class_ = 'metascore').get_text().strip()` Then, perform this chain of `find_all()` and `find()` operation to get the metascore values (if any).\n",
    "\n",
    "- `meta.append(m_score)` to append data from `m_score` to the `meta` array\n",
    "\n",
    "- Or perform the following operation if the **if** clause condition above not met\n",
    "\n",
    "    `else:\n",
    "     meta.append(0)`\n",
    "\n",
    "We assign value 0 to movies with no metascore (to simplify the data visualization process)"
   ]
  },
  {
   "cell_type": "markdown",
   "metadata": {},
   "source": [
    "Scraping voting result :\n",
    "\n",
    "- Perform this chain of `find_all()` and `find()` operation to get the viewer votes. \n",
    "`votes=table.find_all('p', attrs={'class':'sort-num_votes-visible'})[i].find('span', attrs = {'name':'nv'}).get_text().strip()`\n",
    "\n",
    "Because data extraction from the `sort-num_votes-visible` as parent (sometimes) results in 2 values, which are votes and gross revenue, we use `.find()` to extract only the first value we find, or in this case the viewer votes.\n",
    "\n",
    "- `votes_imdb.append(votes)` to append data from `votes` to the `votes_imdb` array"
   ]
  },
  {
   "cell_type": "markdown",
   "metadata": {},
   "source": [
    "Make sure that all of our lists are with the same length, which corresponds to the number of movies we scrapped from the web-site \n",
    "\n",
    "`len(title), len(ratings), len(meta), len(votes_imdb)` "
   ]
  },
  {
   "cell_type": "markdown",
   "metadata": {},
   "source": [
    "**(End of Scraping)**"
   ]
  },
  {
   "cell_type": "markdown",
   "metadata": {},
   "source": [
    "## Creating data frame & Data wrangling"
   ]
  },
  {
   "cell_type": "markdown",
   "metadata": {},
   "source": [
    "Put the array into dataframe"
   ]
  },
  {
   "cell_type": "code",
   "execution_count": 612,
   "metadata": {
    "ExecuteTime": {
     "end_time": "2020-01-13T05:12:41.517372Z",
     "start_time": "2020-01-13T05:12:29.130015Z"
    },
    "scrolled": true
   },
   "outputs": [
    {
     "data": {
      "text/html": [
       "<div>\n",
       "<style scoped>\n",
       "    .dataframe tbody tr th:only-of-type {\n",
       "        vertical-align: middle;\n",
       "    }\n",
       "\n",
       "    .dataframe tbody tr th {\n",
       "        vertical-align: top;\n",
       "    }\n",
       "\n",
       "    .dataframe thead th {\n",
       "        text-align: right;\n",
       "    }\n",
       "</style>\n",
       "<table border=\"1\" class=\"dataframe\">\n",
       "  <thead>\n",
       "    <tr style=\"text-align: right;\">\n",
       "      <th></th>\n",
       "      <th>movie_title</th>\n",
       "      <th>movie_ratings</th>\n",
       "      <th>metascore</th>\n",
       "      <th>votes</th>\n",
       "    </tr>\n",
       "  </thead>\n",
       "  <tbody>\n",
       "    <tr>\n",
       "      <th>0</th>\n",
       "      <td>The White Lotus</td>\n",
       "      <td>7.9</td>\n",
       "      <td>0</td>\n",
       "      <td>114,020</td>\n",
       "    </tr>\n",
       "    <tr>\n",
       "      <th>1</th>\n",
       "      <td>1883</td>\n",
       "      <td>8.8</td>\n",
       "      <td>0</td>\n",
       "      <td>74,062</td>\n",
       "    </tr>\n",
       "    <tr>\n",
       "      <th>2</th>\n",
       "      <td>The Sex Lives of College Girls</td>\n",
       "      <td>7.8</td>\n",
       "      <td>0</td>\n",
       "      <td>21,407</td>\n",
       "    </tr>\n",
       "    <tr>\n",
       "      <th>3</th>\n",
       "      <td>Encanto</td>\n",
       "      <td>7.2</td>\n",
       "      <td>75</td>\n",
       "      <td>223,093</td>\n",
       "    </tr>\n",
       "    <tr>\n",
       "      <th>4</th>\n",
       "      <td>Firefly Lane</td>\n",
       "      <td>7.4</td>\n",
       "      <td>0</td>\n",
       "      <td>24,962</td>\n",
       "    </tr>\n",
       "    <tr>\n",
       "      <th>...</th>\n",
       "      <td>...</td>\n",
       "      <td>...</td>\n",
       "      <td>...</td>\n",
       "      <td>...</td>\n",
       "    </tr>\n",
       "    <tr>\n",
       "      <th>295</th>\n",
       "      <td>Kevin Can F**k Himself</td>\n",
       "      <td>7.0</td>\n",
       "      <td>0</td>\n",
       "      <td>9,061</td>\n",
       "    </tr>\n",
       "    <tr>\n",
       "      <th>296</th>\n",
       "      <td>Memoria</td>\n",
       "      <td>6.5</td>\n",
       "      <td>91</td>\n",
       "      <td>8,752</td>\n",
       "    </tr>\n",
       "    <tr>\n",
       "      <th>297</th>\n",
       "      <td>Katla</td>\n",
       "      <td>7.0</td>\n",
       "      <td>0</td>\n",
       "      <td>14,285</td>\n",
       "    </tr>\n",
       "    <tr>\n",
       "      <th>298</th>\n",
       "      <td>Once Upon a Time in Staten Island</td>\n",
       "      <td>5.4</td>\n",
       "      <td>0</td>\n",
       "      <td>722</td>\n",
       "    </tr>\n",
       "    <tr>\n",
       "      <th>299</th>\n",
       "      <td>Five More Minutes</td>\n",
       "      <td>7.4</td>\n",
       "      <td>0</td>\n",
       "      <td>1,128</td>\n",
       "    </tr>\n",
       "  </tbody>\n",
       "</table>\n",
       "<p>300 rows × 4 columns</p>\n",
       "</div>"
      ],
      "text/plain": [
       "                           movie_title movie_ratings metascore    votes\n",
       "0                      The White Lotus           7.9         0  114,020\n",
       "1                                 1883           8.8         0   74,062\n",
       "2       The Sex Lives of College Girls           7.8         0   21,407\n",
       "3                              Encanto           7.2        75  223,093\n",
       "4                         Firefly Lane           7.4         0   24,962\n",
       "..                                 ...           ...       ...      ...\n",
       "295             Kevin Can F**k Himself           7.0         0    9,061\n",
       "296                            Memoria           6.5        91    8,752\n",
       "297                              Katla           7.0         0   14,285\n",
       "298  Once Upon a Time in Staten Island           5.4         0      722\n",
       "299                  Five More Minutes           7.4         0    1,128\n",
       "\n",
       "[300 rows x 4 columns]"
      ]
     },
     "execution_count": 612,
     "metadata": {},
     "output_type": "execute_result"
    }
   ],
   "source": [
    "#creating data frame df from the resulting lists from the previous web-scraping processes\n",
    "df = pd.DataFrame({'movie_title':title,\n",
    "                    'movie_ratings':ratings,\n",
    "                    'metascore':meta,\n",
    "                    'votes':votes_imdb    \n",
    "                    })\n",
    "df"
   ]
  },
  {
   "cell_type": "markdown",
   "metadata": {},
   "source": [
    "Do the data cleaning here (please change this markdown with your explanation of what you do for data wrangling)"
   ]
  },
  {
   "cell_type": "code",
   "execution_count": 613,
   "metadata": {},
   "outputs": [
    {
     "data": {
      "text/plain": [
       "movie_title      object\n",
       "movie_ratings    object\n",
       "metascore        object\n",
       "votes            object\n",
       "dtype: object"
      ]
     },
     "execution_count": 613,
     "metadata": {},
     "output_type": "execute_result"
    }
   ],
   "source": [
    "#check data types\n",
    "df.dtypes"
   ]
  },
  {
   "cell_type": "code",
   "execution_count": 614,
   "metadata": {
    "ExecuteTime": {
     "end_time": "2020-01-13T05:12:59.165559Z",
     "start_time": "2020-01-13T05:12:58.910012Z"
    },
    "scrolled": true
   },
   "outputs": [
    {
     "data": {
      "text/plain": [
       "movie_title       object\n",
       "movie_ratings    float64\n",
       "metascore          int64\n",
       "votes              int64\n",
       "dtype: object"
      ]
     },
     "execution_count": 614,
     "metadata": {},
     "output_type": "execute_result"
    }
   ],
   "source": [
    "#to clean and change data type of column movie_ratings, metascore and votes\n",
    "df['movie_ratings'] = df['movie_ratings'].astype('float64')\n",
    "df['votes'] = df['votes'].str.replace(\",\",\"\").astype('int64')\n",
    "df['metascore'] = df['metascore'].astype('int64')\n",
    "df.dtypes"
   ]
  },
  {
   "cell_type": "code",
   "execution_count": 615,
   "metadata": {
    "scrolled": true
   },
   "outputs": [
    {
     "data": {
      "text/html": [
       "<div>\n",
       "<style scoped>\n",
       "    .dataframe tbody tr th:only-of-type {\n",
       "        vertical-align: middle;\n",
       "    }\n",
       "\n",
       "    .dataframe tbody tr th {\n",
       "        vertical-align: top;\n",
       "    }\n",
       "\n",
       "    .dataframe thead th {\n",
       "        text-align: right;\n",
       "    }\n",
       "</style>\n",
       "<table border=\"1\" class=\"dataframe\">\n",
       "  <thead>\n",
       "    <tr style=\"text-align: right;\">\n",
       "      <th></th>\n",
       "      <th>movie_title</th>\n",
       "      <th>movie_ratings</th>\n",
       "      <th>metascore</th>\n",
       "      <th>votes</th>\n",
       "      <th>meta_adj</th>\n",
       "    </tr>\n",
       "  </thead>\n",
       "  <tbody>\n",
       "    <tr>\n",
       "      <th>0</th>\n",
       "      <td>The White Lotus</td>\n",
       "      <td>7.9</td>\n",
       "      <td>0</td>\n",
       "      <td>114020</td>\n",
       "      <td>0.0</td>\n",
       "    </tr>\n",
       "    <tr>\n",
       "      <th>1</th>\n",
       "      <td>1883</td>\n",
       "      <td>8.8</td>\n",
       "      <td>0</td>\n",
       "      <td>74062</td>\n",
       "      <td>0.0</td>\n",
       "    </tr>\n",
       "    <tr>\n",
       "      <th>2</th>\n",
       "      <td>The Sex Lives of College Girls</td>\n",
       "      <td>7.8</td>\n",
       "      <td>0</td>\n",
       "      <td>21407</td>\n",
       "      <td>0.0</td>\n",
       "    </tr>\n",
       "    <tr>\n",
       "      <th>3</th>\n",
       "      <td>Encanto</td>\n",
       "      <td>7.2</td>\n",
       "      <td>75</td>\n",
       "      <td>223093</td>\n",
       "      <td>7.5</td>\n",
       "    </tr>\n",
       "    <tr>\n",
       "      <th>4</th>\n",
       "      <td>Firefly Lane</td>\n",
       "      <td>7.4</td>\n",
       "      <td>0</td>\n",
       "      <td>24962</td>\n",
       "      <td>0.0</td>\n",
       "    </tr>\n",
       "  </tbody>\n",
       "</table>\n",
       "</div>"
      ],
      "text/plain": [
       "                      movie_title  movie_ratings  metascore   votes  meta_adj\n",
       "0                 The White Lotus            7.9          0  114020       0.0\n",
       "1                            1883            8.8          0   74062       0.0\n",
       "2  The Sex Lives of College Girls            7.8          0   21407       0.0\n",
       "3                         Encanto            7.2         75  223093       7.5\n",
       "4                    Firefly Lane            7.4          0   24962       0.0"
      ]
     },
     "execution_count": 615,
     "metadata": {},
     "output_type": "execute_result"
    }
   ],
   "source": [
    "#add column for metascore in scale of 1 to 10, for side to side comparison with viewer ratings later\n",
    "max_meta=100 #maximum scale of metascore\n",
    "max_ratings=10 #maximum scale of viewer ratings\n",
    "df['meta_adj']=df['metascore']/max_meta*max_ratings\n",
    "df.head()"
   ]
  },
  {
   "cell_type": "code",
   "execution_count": 616,
   "metadata": {},
   "outputs": [],
   "source": [
    "df = df.set_index('movie_title') #set movie_title as index"
   ]
  },
  {
   "cell_type": "code",
   "execution_count": 617,
   "metadata": {
    "scrolled": false
   },
   "outputs": [
    {
     "data": {
      "text/html": [
       "<div>\n",
       "<style scoped>\n",
       "    .dataframe tbody tr th:only-of-type {\n",
       "        vertical-align: middle;\n",
       "    }\n",
       "\n",
       "    .dataframe tbody tr th {\n",
       "        vertical-align: top;\n",
       "    }\n",
       "\n",
       "    .dataframe thead th {\n",
       "        text-align: right;\n",
       "    }\n",
       "</style>\n",
       "<table border=\"1\" class=\"dataframe\">\n",
       "  <thead>\n",
       "    <tr style=\"text-align: right;\">\n",
       "      <th></th>\n",
       "      <th>movie_ratings</th>\n",
       "    </tr>\n",
       "    <tr>\n",
       "      <th>movie_title</th>\n",
       "      <th></th>\n",
       "    </tr>\n",
       "  </thead>\n",
       "  <tbody>\n",
       "    <tr>\n",
       "      <th>Clarkson's Farm</th>\n",
       "      <td>9.0</td>\n",
       "    </tr>\n",
       "    <tr>\n",
       "      <th>As If</th>\n",
       "      <td>9.0</td>\n",
       "    </tr>\n",
       "    <tr>\n",
       "      <th>Arcane</th>\n",
       "      <td>9.0</td>\n",
       "    </tr>\n",
       "    <tr>\n",
       "      <th>Jai Bhim</th>\n",
       "      <td>8.8</td>\n",
       "    </tr>\n",
       "    <tr>\n",
       "      <th>1883</th>\n",
       "      <td>8.8</td>\n",
       "    </tr>\n",
       "    <tr>\n",
       "      <th>It's a Sin</th>\n",
       "      <td>8.7</td>\n",
       "    </tr>\n",
       "    <tr>\n",
       "      <th>Invincible</th>\n",
       "      <td>8.7</td>\n",
       "    </tr>\n",
       "  </tbody>\n",
       "</table>\n",
       "</div>"
      ],
      "text/plain": [
       "                 movie_ratings\n",
       "movie_title                   \n",
       "Clarkson's Farm            9.0\n",
       "As If                      9.0\n",
       "Arcane                     9.0\n",
       "Jai Bhim                   8.8\n",
       "1883                       8.8\n",
       "It's a Sin                 8.7\n",
       "Invincible                 8.7"
      ]
     },
     "execution_count": 617,
     "metadata": {},
     "output_type": "execute_result"
    }
   ],
   "source": [
    "#to find 7 most popular movies based on movie ratings  \n",
    "top7_ratings=df.sort_values(by='movie_ratings', ascending=False).head(rank).loc[:,['movie_ratings']]\n",
    "top7_ratings"
   ]
  },
  {
   "cell_type": "code",
   "execution_count": 618,
   "metadata": {},
   "outputs": [
    {
     "data": {
      "text/html": [
       "<div>\n",
       "<style scoped>\n",
       "    .dataframe tbody tr th:only-of-type {\n",
       "        vertical-align: middle;\n",
       "    }\n",
       "\n",
       "    .dataframe tbody tr th {\n",
       "        vertical-align: top;\n",
       "    }\n",
       "\n",
       "    .dataframe thead th {\n",
       "        text-align: right;\n",
       "    }\n",
       "</style>\n",
       "<table border=\"1\" class=\"dataframe\">\n",
       "  <thead>\n",
       "    <tr style=\"text-align: right;\">\n",
       "      <th></th>\n",
       "      <th>votes</th>\n",
       "    </tr>\n",
       "    <tr>\n",
       "      <th>movie_title</th>\n",
       "      <th></th>\n",
       "    </tr>\n",
       "  </thead>\n",
       "  <tbody>\n",
       "    <tr>\n",
       "      <th>Spider-Man: No Way Home</th>\n",
       "      <td>756559</td>\n",
       "    </tr>\n",
       "    <tr>\n",
       "      <th>Dune</th>\n",
       "      <td>636776</td>\n",
       "    </tr>\n",
       "    <tr>\n",
       "      <th>Don't Look Up</th>\n",
       "      <td>538795</td>\n",
       "    </tr>\n",
       "    <tr>\n",
       "      <th>Squid Game</th>\n",
       "      <td>448988</td>\n",
       "    </tr>\n",
       "    <tr>\n",
       "      <th>No Time to Die</th>\n",
       "      <td>402611</td>\n",
       "    </tr>\n",
       "    <tr>\n",
       "      <th>Zack Snyder's Justice League</th>\n",
       "      <td>399880</td>\n",
       "    </tr>\n",
       "    <tr>\n",
       "      <th>Shang-Chi and the Legend of the Ten Rings</th>\n",
       "      <td>383284</td>\n",
       "    </tr>\n",
       "  </tbody>\n",
       "</table>\n",
       "</div>"
      ],
      "text/plain": [
       "                                            votes\n",
       "movie_title                                      \n",
       "Spider-Man: No Way Home                    756559\n",
       "Dune                                       636776\n",
       "Don't Look Up                              538795\n",
       "Squid Game                                 448988\n",
       "No Time to Die                             402611\n",
       "Zack Snyder's Justice League               399880\n",
       "Shang-Chi and the Legend of the Ten Rings  383284"
      ]
     },
     "execution_count": 618,
     "metadata": {},
     "output_type": "execute_result"
    }
   ],
   "source": [
    "#to find 7 most popular movies based on viewer votes  \n",
    "top7_votes=df.sort_values(by='votes', ascending=False).head(rank).loc[:,['votes']]\n",
    "top7_votes"
   ]
  },
  {
   "cell_type": "code",
   "execution_count": 619,
   "metadata": {},
   "outputs": [
    {
     "data": {
      "text/html": [
       "<div>\n",
       "<style scoped>\n",
       "    .dataframe tbody tr th:only-of-type {\n",
       "        vertical-align: middle;\n",
       "    }\n",
       "\n",
       "    .dataframe tbody tr th {\n",
       "        vertical-align: top;\n",
       "    }\n",
       "\n",
       "    .dataframe thead th {\n",
       "        text-align: right;\n",
       "    }\n",
       "</style>\n",
       "<table border=\"1\" class=\"dataframe\">\n",
       "  <thead>\n",
       "    <tr style=\"text-align: right;\">\n",
       "      <th></th>\n",
       "      <th>metascore</th>\n",
       "      <th>meta_adj</th>\n",
       "    </tr>\n",
       "    <tr>\n",
       "      <th>movie_title</th>\n",
       "      <th></th>\n",
       "      <th></th>\n",
       "    </tr>\n",
       "  </thead>\n",
       "  <tbody>\n",
       "    <tr>\n",
       "      <th>Petite Maman</th>\n",
       "      <td>93</td>\n",
       "      <td>9.3</td>\n",
       "    </tr>\n",
       "    <tr>\n",
       "      <th>Memoria</th>\n",
       "      <td>91</td>\n",
       "      <td>9.1</td>\n",
       "    </tr>\n",
       "    <tr>\n",
       "      <th>Drive My Car</th>\n",
       "      <td>91</td>\n",
       "      <td>9.1</td>\n",
       "    </tr>\n",
       "    <tr>\n",
       "      <th>Hit the Road</th>\n",
       "      <td>90</td>\n",
       "      <td>9.0</td>\n",
       "    </tr>\n",
       "    <tr>\n",
       "      <th>The Worst Person in the World</th>\n",
       "      <td>90</td>\n",
       "      <td>9.0</td>\n",
       "    </tr>\n",
       "    <tr>\n",
       "      <th>Licorice Pizza</th>\n",
       "      <td>90</td>\n",
       "      <td>9.0</td>\n",
       "    </tr>\n",
       "    <tr>\n",
       "      <th>The Power of the Dog</th>\n",
       "      <td>89</td>\n",
       "      <td>8.9</td>\n",
       "    </tr>\n",
       "  </tbody>\n",
       "</table>\n",
       "</div>"
      ],
      "text/plain": [
       "                               metascore  meta_adj\n",
       "movie_title                                       \n",
       "Petite Maman                          93       9.3\n",
       "Memoria                               91       9.1\n",
       "Drive My Car                          91       9.1\n",
       "Hit the Road                          90       9.0\n",
       "The Worst Person in the World         90       9.0\n",
       "Licorice Pizza                        90       9.0\n",
       "The Power of the Dog                  89       8.9"
      ]
     },
     "execution_count": 619,
     "metadata": {},
     "output_type": "execute_result"
    }
   ],
   "source": [
    "#to find 7 most popular movies based on movie critics (metascore)\n",
    "top7_meta=df.sort_values(by='metascore', ascending=False).head(rank).loc[:,['metascore','meta_adj']]\n",
    "top7_meta"
   ]
  },
  {
   "cell_type": "markdown",
   "metadata": {},
   "source": [
    "## Data Visualization"
   ]
  },
  {
   "cell_type": "code",
   "execution_count": 620,
   "metadata": {},
   "outputs": [],
   "source": [
    "import matplotlib.pyplot as plt"
   ]
  },
  {
   "cell_type": "code",
   "execution_count": 621,
   "metadata": {},
   "outputs": [
    {
     "data": {
      "text/plain": [
       "<AxesSubplot:title={'center':'Top 7 Movies Based on Viewer Ratings'}, xlabel='Movie Title', ylabel='Viewer Ratings'>"
      ]
     },
     "execution_count": 621,
     "metadata": {},
     "output_type": "execute_result"
    },
    {
     "data": {
      "image/png": "[encoded data removed]",
      "text/plain": [
       "<Figure size 640x480 with 1 Axes>"
      ]
     },
     "metadata": {},
     "output_type": "display_data"
    }
   ],
   "source": [
    "#Create barplot for to 7 movies based on rating\n",
    "top7_ratings.plot(kind='bar', title=\"Top 7 Movies Based on Viewer Ratings\",\n",
    "                  xlabel='Movie Title', ylabel='Viewer Ratings')"
   ]
  },
  {
   "cell_type": "code",
   "execution_count": 622,
   "metadata": {
    "scrolled": false
   },
   "outputs": [
    {
     "data": {
      "text/plain": [
       "<AxesSubplot:title={'center':'Top 7 Movies Based on Viewer Votes'}, xlabel='Movie Title', ylabel='Total Votes'>"
      ]
     },
     "execution_count": 622,
     "metadata": {},
     "output_type": "execute_result"
    },
    {
     "data": {
      "image/png": "[encoded data removed]",
      "text/plain": [
       "<Figure size 640x480 with 1 Axes>"
      ]
     },
     "metadata": {},
     "output_type": "display_data"
    }
   ],
   "source": [
    "# Create barplot for to 7 movies based on viewer's votes\n",
    "top7_votes.plot.bar(title=\"Top 7 Movies Based on Viewer Votes\",\n",
    "                  xlabel='Movie Title', ylabel='Total Votes')"
   ]
  },
  {
   "cell_type": "code",
   "execution_count": 623,
   "metadata": {},
   "outputs": [
    {
     "data": {
      "text/plain": [
       "<AxesSubplot:title={'center':'Top 7 Movies Based on Meta Critics (Metascore)'}, xlabel='Movie Title', ylabel='Metascore'>"
      ]
     },
     "execution_count": 623,
     "metadata": {},
     "output_type": "execute_result"
    },
    {
     "data": {
      "image/png": "[encoded data removed]",
      "text/plain": [
       "<Figure size 640x480 with 1 Axes>"
      ]
     },
     "metadata": {},
     "output_type": "display_data"
    }
   ],
   "source": [
    "# Create barplot for to 7 movies based on metascore performance (movie critics)\n",
    "top7_meta.plot.bar(y='metascore', title=\"Top 7 Movies Based on Meta Critics (Metascore)\",\n",
    "                  xlabel='Movie Title', ylabel='Metascore')"
   ]
  },
  {
   "cell_type": "markdown",
   "metadata": {},
   "source": [
    "### Implementing your webscrapping to the flask dashboard\n",
    "\n",
    "- Copy paste all of your web scrapping process to the desired position on the `app.py`\n",
    "- Changing the title of the dasboard at `index.html`"
   ]
  },
  {
   "cell_type": "markdown",
   "metadata": {},
   "source": [
    "## Finishing This Notebook with Your Analysis and Conclusion\n",
    "\n",
    "First you can do start with making the data visualisation. "
   ]
  },
  {
   "cell_type": "code",
   "execution_count": 624,
   "metadata": {
    "ExecuteTime": {
     "end_time": "2020-01-13T05:20:56.208237Z",
     "start_time": "2020-01-13T05:20:56.076043Z"
    }
   },
   "outputs": [
    {
     "data": {
      "text/html": [
       "<div>\n",
       "<style scoped>\n",
       "    .dataframe tbody tr th:only-of-type {\n",
       "        vertical-align: middle;\n",
       "    }\n",
       "\n",
       "    .dataframe tbody tr th {\n",
       "        vertical-align: top;\n",
       "    }\n",
       "\n",
       "    .dataframe thead th {\n",
       "        text-align: right;\n",
       "    }\n",
       "</style>\n",
       "<table border=\"1\" class=\"dataframe\">\n",
       "  <thead>\n",
       "    <tr style=\"text-align: right;\">\n",
       "      <th></th>\n",
       "      <th>Top7_Ratings</th>\n",
       "      <th>Top7_Votes</th>\n",
       "      <th>Top7_Meta</th>\n",
       "    </tr>\n",
       "  </thead>\n",
       "  <tbody>\n",
       "    <tr>\n",
       "      <th>1</th>\n",
       "      <td>Clarkson's Farm</td>\n",
       "      <td>Spider-Man: No Way Home</td>\n",
       "      <td>Petite Maman</td>\n",
       "    </tr>\n",
       "    <tr>\n",
       "      <th>2</th>\n",
       "      <td>As If</td>\n",
       "      <td>Dune</td>\n",
       "      <td>Memoria</td>\n",
       "    </tr>\n",
       "    <tr>\n",
       "      <th>3</th>\n",
       "      <td>Arcane</td>\n",
       "      <td>Don't Look Up</td>\n",
       "      <td>Drive My Car</td>\n",
       "    </tr>\n",
       "    <tr>\n",
       "      <th>4</th>\n",
       "      <td>Jai Bhim</td>\n",
       "      <td>Squid Game</td>\n",
       "      <td>Hit the Road</td>\n",
       "    </tr>\n",
       "    <tr>\n",
       "      <th>5</th>\n",
       "      <td>1883</td>\n",
       "      <td>No Time to Die</td>\n",
       "      <td>The Worst Person in the World</td>\n",
       "    </tr>\n",
       "    <tr>\n",
       "      <th>6</th>\n",
       "      <td>It's a Sin</td>\n",
       "      <td>Zack Snyder's Justice League</td>\n",
       "      <td>Licorice Pizza</td>\n",
       "    </tr>\n",
       "  </tbody>\n",
       "</table>\n",
       "</div>"
      ],
      "text/plain": [
       "      Top7_Ratings                    Top7_Votes  \\\n",
       "1  Clarkson's Farm       Spider-Man: No Way Home   \n",
       "2            As If                          Dune   \n",
       "3           Arcane                 Don't Look Up   \n",
       "4         Jai Bhim                    Squid Game   \n",
       "5             1883                No Time to Die   \n",
       "6       It's a Sin  Zack Snyder's Justice League   \n",
       "\n",
       "                       Top7_Meta  \n",
       "1                   Petite Maman  \n",
       "2                        Memoria  \n",
       "3                   Drive My Car  \n",
       "4                   Hit the Road  \n",
       "5  The Worst Person in the World  \n",
       "6                 Licorice Pizza  "
      ]
     },
     "execution_count": 624,
     "metadata": {},
     "output_type": "execute_result"
    }
   ],
   "source": [
    "#Comparison Table of 7 Top Movies on Each Category (Based on: Viewer Ratings, Votes, and Metascore)\n",
    "top7=pd.DataFrame().assign(Top7_Ratings=top7_ratings.reset_index()['movie_title'],\n",
    "                           Top7_Votes=top7_votes.reset_index()['movie_title'], Top7_Meta=top7_meta.reset_index()['movie_title'])\n",
    "\n",
    "top7.shift()[1:] #rearrange index, starting from 1 instead of 0\n"
   ]
  },
  {
   "cell_type": "markdown",
   "metadata": {},
   "source": [
    "Based on the result of our web-scraping process we try to create category of Top 7 Most Popular Movies in 2021 based on their viewer ratings, metascore (coming from reputable movie critics), and viewer votes. As you may see, each category results in different list of movies. Interestingly enough, there's no intersection of each category winners meaning that the most voted movies might not necesarrily the highest rating one nor with the highest metascore, and vice versa.\n",
    "\n",
    "To understand the result above, we should first address how IMDb calculates the number of viewer ratings, votes and metascore. From the IMDb Help Center page\n",
    "<a href=\"https://help.imdb.com/article/imdb/track-movies-tv/ratings-faq/G67Y87TFYYP6TWAV?ref_=helpsect_cons_2_4#\">here</a>, movie ratings are aggregated of individual vote from IMDb registered users who cast a vote (from 1 to 10) on every released title in the database. The aggregated voted then summarized as a single IMDb rating, visible on the title's main page. But instead of using arithmetic mean/raw data average, IMDb uses **weighted average** for ratings displayed in the title bar.\n",
    "Meaning that not all votes have the same impact (or 'weight') on the final rating, and we have less biased data. However, the total number of votes given are reflected in the **votes** info in the title main page, regardless how good/bad the votes was.\n",
    "> <font color=red>Hence, the **votes** number are not necessarily reflecting the number of people in favour of/supporting the movies, or the movie was popular.</font>\n",
    "\n",
    "While the **Metascores** are calculated based on the weighted average of many reviews coming from reputed critics. The Metacritic team reads the reviews and assigns each a 0–100 score, which is then given a weight, mainly based on the review’s quality and source, with weighting coefficients which are confidential.\n",
    "> <font color=red>With that being said, the highest **Metascore** movies are not necessarily the most popular ones</font>.  \n",
    "\n",
    "Although, IMDb provides information called **Popularity Ranking**, they do not disclose the calculation method for such data. \n",
    "\n",
    "To define how popular a movie is, we should think like IMDb (or other movie review platform) and define the weighted coefficients for our own **popularity index** by taking into consideration factors such as the viewer ratings, votes, and metascore (which unfortunately not all movies have it).\n",
    "\n",
    "With the consideration mentioned above, the most relevant parameter left to rate movie's popularity is the **Viewer Rankings**. It reflects how a movie is well loved which contributes positively to it's popularity, although it may not the most voted one or score the highest metascore.\n",
    "\n",
    "As we can see, the Top 7 Most Popular Movies in 2021 based on Viewer Ratings are :\n",
    "- 1. Clarkson's Farm\n",
    "- 2. As If\n",
    "- 3. Arcane\n",
    "- 4. Jai Bhim\n",
    "- 5. 1883\n",
    "- 6. It's a Sin\n",
    "- 7. Invincible"
   ]
  },
  {
   "cell_type": "markdown",
   "metadata": {},
   "source": [
    "### Extra Challenge\n",
    "\n",
    "This will be not included to the scoring. \n",
    "\n",
    "- You can create additional analysis from the data.\n",
    "- Implement it to the dashboard with at `app.py` dan `index.html`."
   ]
  },
  {
   "cell_type": "markdown",
   "metadata": {},
   "source": [
    "### Additional Analysis\n",
    "\n",
    "We perform additional analysis to the histogram plot of Viewer Ratings distribution for movies released in 2021. Before we continue the analysis, we could quantify the qualitative values of movies, with categories such as: Bad, Average, Good movies based on their viewer ratings. On a 0 to 10 scale, a bad movie is somewhere between 0 and 3, an average one between 3 and 7, and a good one between 7 and 10."
   ]
  },
  {
   "cell_type": "code",
   "execution_count": 634,
   "metadata": {},
   "outputs": [
    {
     "data": {
      "text/plain": [
       "<AxesSubplot:title={'center':'Distribution of Viewer Ratings'}, ylabel='Frequency'>"
      ]
     },
     "execution_count": 634,
     "metadata": {},
     "output_type": "execute_result"
    },
    {
     "data": {
      "image/png": "[encoded data removed]",
      "text/plain": [
       "<Figure size 640x480 with 1 Axes>"
      ]
     },
     "metadata": {},
     "output_type": "display_data"
    }
   ],
   "source": [
    "hist_ratings=df.copy().reset_index().loc[:,['movie_title','movie_ratings']]\n",
    "hist_ratings.plot.hist(grid=True, title='Distribution of Viewer Ratings', xlabel='Viewer Ratings', ylabel='#of movies', color='g')"
   ]
  },
  {
   "cell_type": "code",
   "execution_count": 632,
   "metadata": {
    "scrolled": true
   },
   "outputs": [
    {
     "data": {
      "text/html": [
       "<div>\n",
       "<style scoped>\n",
       "    .dataframe tbody tr th:only-of-type {\n",
       "        vertical-align: middle;\n",
       "    }\n",
       "\n",
       "    .dataframe tbody tr th {\n",
       "        vertical-align: top;\n",
       "    }\n",
       "\n",
       "    .dataframe thead th {\n",
       "        text-align: right;\n",
       "    }\n",
       "</style>\n",
       "<table border=\"1\" class=\"dataframe\">\n",
       "  <thead>\n",
       "    <tr style=\"text-align: right;\">\n",
       "      <th></th>\n",
       "      <th>movie_ratings</th>\n",
       "    </tr>\n",
       "  </thead>\n",
       "  <tbody>\n",
       "    <tr>\n",
       "      <th>count</th>\n",
       "      <td>300.000000</td>\n",
       "    </tr>\n",
       "    <tr>\n",
       "      <th>mean</th>\n",
       "      <td>6.759000</td>\n",
       "    </tr>\n",
       "    <tr>\n",
       "      <th>std</th>\n",
       "      <td>0.974706</td>\n",
       "    </tr>\n",
       "    <tr>\n",
       "      <th>min</th>\n",
       "      <td>3.600000</td>\n",
       "    </tr>\n",
       "    <tr>\n",
       "      <th>25%</th>\n",
       "      <td>6.100000</td>\n",
       "    </tr>\n",
       "    <tr>\n",
       "      <th>50%</th>\n",
       "      <td>6.900000</td>\n",
       "    </tr>\n",
       "    <tr>\n",
       "      <th>75%</th>\n",
       "      <td>7.400000</td>\n",
       "    </tr>\n",
       "    <tr>\n",
       "      <th>max</th>\n",
       "      <td>9.000000</td>\n",
       "    </tr>\n",
       "  </tbody>\n",
       "</table>\n",
       "</div>"
      ],
      "text/plain": [
       "       movie_ratings\n",
       "count     300.000000\n",
       "mean        6.759000\n",
       "std         0.974706\n",
       "min         3.600000\n",
       "25%         6.100000\n",
       "50%         6.900000\n",
       "75%         7.400000\n",
       "max         9.000000"
      ]
     },
     "execution_count": 632,
     "metadata": {},
     "output_type": "execute_result"
    }
   ],
   "source": [
    "df.copy().reset_index().loc[:,['movie_ratings']].describe()"
   ]
  },
  {
   "cell_type": "markdown",
   "metadata": {},
   "source": [
    "**Analysis** : The Viewer Ratings histogram plot is not a symmetrical one, ratings are not evenly distributed, it is a Left-Skewed Normal Distribution, which mean it has much longer tail in the left side of the distribution. Therefore, you’ll find extreme values far from the peak on the low side more frequently than the high side. The skew indicates where you’ll find the majority of outliners. \n",
    "From the statistical summary of **movie_ratings** column using `.describe()`, the mean is notably less than the median,hence, we can not use mean in the calculation. It is suggested to use the median because it provides more robust statistic property in the presence of extreme values.\n",
    "\n",
    "And base on our qualitative criteria, all of of our viewer ratings fall into the AVERAGE and GOOD brackets, with 7.4 as the most frequent rating appears (mode), bigger than it's median value of 6.9. This explains the characteristic of left-skewed normal distribution with mean < median < mode. "
   ]
  },
  {
   "cell_type": "code",
   "execution_count": 627,
   "metadata": {},
   "outputs": [
    {
     "data": {
      "text/plain": [
       "<AxesSubplot:title={'center':'Top 7 Movies Based on Meta Critics (Metascore) with the Viewer Ratings'}, xlabel='Movie Title', ylabel='Rating/Score'>"
      ]
     },
     "execution_count": 627,
     "metadata": {},
     "output_type": "execute_result"
    },
    {
     "data": {
      "image/png": "[encoded data removed]",
      "text/plain": [
       "<Figure size 640x480 with 1 Axes>"
      ]
     },
     "metadata": {},
     "output_type": "display_data"
    }
   ],
   "source": [
    "# to compare the top 7 movies based on adjusted metascore performance vs viewers ratings\n",
    "bx=df.sort_values(by='metascore', ascending=False).head(7).loc[:,['meta_adj','movie_ratings']]\n",
    "bx.plot.bar(title=\"Top 7 Movies Based on Meta Critics (Metascore) with the Viewer Ratings\",\n",
    "                  xlabel='Movie Title', ylabel='Rating/Score')"
   ]
  },
  {
   "cell_type": "markdown",
   "metadata": {},
   "source": [
    "**Analysis** : The TOP 7 Movies with highest metascore are not necessarily that bad in terms or viewer ratings performances, although, as we can see, it's viewer ratings are constantly lower than the rescaled metascore. Meaning that the movie critics decision might not reflects the general publics opinion. "
   ]
  },
  {
   "cell_type": "code",
   "execution_count": 635,
   "metadata": {},
   "outputs": [
    {
     "data": {
      "text/plain": [
       "<AxesSubplot:title={'center':'Distribution of Metascore'}, ylabel='Frequency'>"
      ]
     },
     "execution_count": 635,
     "metadata": {},
     "output_type": "execute_result"
    },
    {
     "data": {
      "image/png": "[encoded data removed]",
      "text/plain": [
       "<Figure size 640x480 with 1 Axes>"
      ]
     },
     "metadata": {},
     "output_type": "display_data"
    }
   ],
   "source": [
    "hist_meta=df.copy().reset_index().loc[:,['movie_title','metascore']]\n",
    "hist_meta.plot.hist(title='Distribution of Metascore', xlabel='Metascore', ylabel='#of movies', grid=True, color='g')"
   ]
  },
  {
   "cell_type": "code",
   "execution_count": 636,
   "metadata": {
    "scrolled": false
   },
   "outputs": [
    {
     "data": {
      "text/plain": [
       "<AxesSubplot:title={'center':'Distribution of Viewer Votes'}, ylabel='Frequency'>"
      ]
     },
     "execution_count": 636,
     "metadata": {},
     "output_type": "execute_result"
    },
    {
     "data": {
      "image/png": "[encoded data removed]",
      "text/plain": [
       "<Figure size 640x480 with 1 Axes>"
      ]
     },
     "metadata": {},
     "output_type": "display_data"
    }
   ],
   "source": [
    "hist_votes=df.copy().reset_index().loc[:,['movie_title','votes']]\n",
    "hist_votes.plot.hist(title='Distribution of Viewer Votes', xlabel='Viewer Votes', ylabel='#of movies', grid=True, color='g')"
   ]
  },
  {
   "cell_type": "code",
   "execution_count": 630,
   "metadata": {},
   "outputs": [
    {
     "data": {
      "text/html": [
       "<div>\n",
       "<style scoped>\n",
       "    .dataframe tbody tr th:only-of-type {\n",
       "        vertical-align: middle;\n",
       "    }\n",
       "\n",
       "    .dataframe tbody tr th {\n",
       "        vertical-align: top;\n",
       "    }\n",
       "\n",
       "    .dataframe thead th {\n",
       "        text-align: right;\n",
       "    }\n",
       "</style>\n",
       "<table border=\"1\" class=\"dataframe\">\n",
       "  <thead>\n",
       "    <tr style=\"text-align: right;\">\n",
       "      <th></th>\n",
       "      <th>votes</th>\n",
       "    </tr>\n",
       "  </thead>\n",
       "  <tbody>\n",
       "    <tr>\n",
       "      <th>count</th>\n",
       "      <td>300.000000</td>\n",
       "    </tr>\n",
       "    <tr>\n",
       "      <th>mean</th>\n",
       "      <td>65040.693333</td>\n",
       "    </tr>\n",
       "    <tr>\n",
       "      <th>std</th>\n",
       "      <td>100318.059701</td>\n",
       "    </tr>\n",
       "    <tr>\n",
       "      <th>min</th>\n",
       "      <td>226.000000</td>\n",
       "    </tr>\n",
       "    <tr>\n",
       "      <th>25%</th>\n",
       "      <td>9822.000000</td>\n",
       "    </tr>\n",
       "    <tr>\n",
       "      <th>50%</th>\n",
       "      <td>28135.500000</td>\n",
       "    </tr>\n",
       "    <tr>\n",
       "      <th>75%</th>\n",
       "      <td>74484.500000</td>\n",
       "    </tr>\n",
       "    <tr>\n",
       "      <th>max</th>\n",
       "      <td>756559.000000</td>\n",
       "    </tr>\n",
       "  </tbody>\n",
       "</table>\n",
       "</div>"
      ],
      "text/plain": [
       "               votes\n",
       "count     300.000000\n",
       "mean    65040.693333\n",
       "std    100318.059701\n",
       "min       226.000000\n",
       "25%      9822.000000\n",
       "50%     28135.500000\n",
       "75%     74484.500000\n",
       "max    756559.000000"
      ]
     },
     "execution_count": 630,
     "metadata": {},
     "output_type": "execute_result"
    }
   ],
   "source": [
    "hist_votes.describe()"
   ]
  },
  {
   "cell_type": "markdown",
   "metadata": {},
   "source": [
    "**Analysis** : Unlike the viewer ratings distribution prior, the distribution of metascore and votes are extremely righ-skewed with mean far bigger than it's median with highly clustered data in the lower index values. The same behavior also shown by the histogram plot of the metascore, which further confirms the decision to get a popularity ranking based on **viewer ratings** instead of **votes** and **metascores**. \n"
   ]
  }
 ],
 "metadata": {
  "kernelspec": {
   "display_name": "ultron_capstone_tl",
   "language": "python",
   "name": "ultron_capstone_tl"
  },
  "language_info": {
   "codemirror_mode": {
    "name": "ipython",
    "version": 3
   },
   "file_extension": ".py",
   "mimetype": "text/x-python",
   "name": "python",
   "nbconvert_exporter": "python",
   "pygments_lexer": "ipython3",
   "version": "3.10.8"
  }
 },
 "nbformat": 4,
 "nbformat_minor": 2
}
